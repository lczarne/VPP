{
 "cells": [
  {
   "cell_type": "code",
   "execution_count": 4,
   "metadata": {
    "collapsed": true
   },
   "outputs": [],
   "source": [
    "import numpy as np\n",
    "import pandas as pd"
   ]
  },
  {
   "cell_type": "code",
   "execution_count": 5,
   "metadata": {
    "collapsed": true
   },
   "outputs": [],
   "source": [
    "df = pd.read_csv(\"data.csv\",header=None)"
   ]
  },
  {
   "cell_type": "code",
   "execution_count": 8,
   "metadata": {
    "collapsed": false
   },
   "outputs": [
    {
     "data": {
      "text/html": [
       "<div>\n",
       "<table border=\"1\" class=\"dataframe\">\n",
       "  <thead>\n",
       "    <tr style=\"text-align: right;\">\n",
       "      <th></th>\n",
       "      <th>0</th>\n",
       "      <th>1</th>\n",
       "      <th>2</th>\n",
       "      <th>3</th>\n",
       "      <th>4</th>\n",
       "      <th>5</th>\n",
       "      <th>6</th>\n",
       "      <th>7</th>\n",
       "      <th>8</th>\n",
       "      <th>9</th>\n",
       "      <th>...</th>\n",
       "      <th>159</th>\n",
       "      <th>160</th>\n",
       "      <th>161</th>\n",
       "      <th>162</th>\n",
       "      <th>163</th>\n",
       "      <th>164</th>\n",
       "      <th>165</th>\n",
       "      <th>166</th>\n",
       "      <th>167</th>\n",
       "      <th>168</th>\n",
       "    </tr>\n",
       "  </thead>\n",
       "  <tbody>\n",
       "    <tr>\n",
       "      <th>0</th>\n",
       "      <td>341163402640457_880901755333283</td>\n",
       "      <td>0</td>\n",
       "      <td>48059</td>\n",
       "      <td>61152</td>\n",
       "      <td>70036</td>\n",
       "      <td>77636</td>\n",
       "      <td>84999</td>\n",
       "      <td>91436</td>\n",
       "      <td>96926</td>\n",
       "      <td>101260</td>\n",
       "      <td>...</td>\n",
       "      <td>146636</td>\n",
       "      <td>146673</td>\n",
       "      <td>146698</td>\n",
       "      <td>146731</td>\n",
       "      <td>146745</td>\n",
       "      <td>146779</td>\n",
       "      <td>146801</td>\n",
       "      <td>146834</td>\n",
       "      <td>146862</td>\n",
       "      <td>146880</td>\n",
       "    </tr>\n",
       "    <tr>\n",
       "      <th>1</th>\n",
       "      <td>341163402640457_880956415327817</td>\n",
       "      <td>41457</td>\n",
       "      <td>82351</td>\n",
       "      <td>121691</td>\n",
       "      <td>162281</td>\n",
       "      <td>202702</td>\n",
       "      <td>241761</td>\n",
       "      <td>278878</td>\n",
       "      <td>314355</td>\n",
       "      <td>347958</td>\n",
       "      <td>...</td>\n",
       "      <td>1947135</td>\n",
       "      <td>1948609</td>\n",
       "      <td>1950140</td>\n",
       "      <td>1951974</td>\n",
       "      <td>1954527</td>\n",
       "      <td>1957281</td>\n",
       "      <td>1961155</td>\n",
       "      <td>1965494</td>\n",
       "      <td>1969985</td>\n",
       "      <td>1974771</td>\n",
       "    </tr>\n",
       "    <tr>\n",
       "      <th>2</th>\n",
       "      <td>341163402640457_880993045324154</td>\n",
       "      <td>54229</td>\n",
       "      <td>94312</td>\n",
       "      <td>125887</td>\n",
       "      <td>150893</td>\n",
       "      <td>171727</td>\n",
       "      <td>189382</td>\n",
       "      <td>205866</td>\n",
       "      <td>220667</td>\n",
       "      <td>234427</td>\n",
       "      <td>...</td>\n",
       "      <td>627780</td>\n",
       "      <td>631509</td>\n",
       "      <td>635930</td>\n",
       "      <td>640642</td>\n",
       "      <td>644468</td>\n",
       "      <td>648113</td>\n",
       "      <td>650700</td>\n",
       "      <td>654185</td>\n",
       "      <td>658586</td>\n",
       "      <td>663352</td>\n",
       "    </tr>\n",
       "    <tr>\n",
       "      <th>3</th>\n",
       "      <td>341163402640457_881021215321337</td>\n",
       "      <td>61661</td>\n",
       "      <td>113998</td>\n",
       "      <td>156881</td>\n",
       "      <td>194734</td>\n",
       "      <td>225624</td>\n",
       "      <td>255281</td>\n",
       "      <td>282687</td>\n",
       "      <td>307369</td>\n",
       "      <td>329960</td>\n",
       "      <td>...</td>\n",
       "      <td>1223954</td>\n",
       "      <td>1226818</td>\n",
       "      <td>1229271</td>\n",
       "      <td>1232155</td>\n",
       "      <td>1235054</td>\n",
       "      <td>1238125</td>\n",
       "      <td>1241653</td>\n",
       "      <td>1245985</td>\n",
       "      <td>1250054</td>\n",
       "      <td>1254839</td>\n",
       "    </tr>\n",
       "    <tr>\n",
       "      <th>4</th>\n",
       "      <td>341163402640457_881059645317494</td>\n",
       "      <td>22581</td>\n",
       "      <td>34326</td>\n",
       "      <td>42179</td>\n",
       "      <td>48756</td>\n",
       "      <td>54004</td>\n",
       "      <td>58748</td>\n",
       "      <td>62944</td>\n",
       "      <td>66424</td>\n",
       "      <td>69449</td>\n",
       "      <td>...</td>\n",
       "      <td>114291</td>\n",
       "      <td>114322</td>\n",
       "      <td>114342</td>\n",
       "      <td>114359</td>\n",
       "      <td>114409</td>\n",
       "      <td>114444</td>\n",
       "      <td>114494</td>\n",
       "      <td>114518</td>\n",
       "      <td>114534</td>\n",
       "      <td>114546</td>\n",
       "    </tr>\n",
       "  </tbody>\n",
       "</table>\n",
       "<p>5 rows × 169 columns</p>\n",
       "</div>"
      ],
      "text/plain": [
       "                               0      1       2       3       4       5    \\\n",
       "0  341163402640457_880901755333283      0   48059   61152   70036   77636   \n",
       "1  341163402640457_880956415327817  41457   82351  121691  162281  202702   \n",
       "2  341163402640457_880993045324154  54229   94312  125887  150893  171727   \n",
       "3  341163402640457_881021215321337  61661  113998  156881  194734  225624   \n",
       "4  341163402640457_881059645317494  22581   34326   42179   48756   54004   \n",
       "\n",
       "      6       7       8       9     ...         159      160      161  \\\n",
       "0   84999   91436   96926  101260   ...      146636   146673   146698   \n",
       "1  241761  278878  314355  347958   ...     1947135  1948609  1950140   \n",
       "2  189382  205866  220667  234427   ...      627780   631509   635930   \n",
       "3  255281  282687  307369  329960   ...     1223954  1226818  1229271   \n",
       "4   58748   62944   66424   69449   ...      114291   114322   114342   \n",
       "\n",
       "       162      163      164      165      166      167      168  \n",
       "0   146731   146745   146779   146801   146834   146862   146880  \n",
       "1  1951974  1954527  1957281  1961155  1965494  1969985  1974771  \n",
       "2   640642   644468   648113   650700   654185   658586   663352  \n",
       "3  1232155  1235054  1238125  1241653  1245985  1250054  1254839  \n",
       "4   114359   114409   114444   114494   114518   114534   114546  \n",
       "\n",
       "[5 rows x 169 columns]"
      ]
     },
     "execution_count": 8,
     "metadata": {},
     "output_type": "execute_result"
    }
   ],
   "source": [
    "df.head()"
   ]
  },
  {
   "cell_type": "code",
   "execution_count": 14,
   "metadata": {
    "collapsed": false
   },
   "outputs": [
    {
     "data": {
      "text/plain": [
       "(916, 169)"
      ]
     },
     "execution_count": 14,
     "metadata": {},
     "output_type": "execute_result"
    }
   ],
   "source": [
    "df.shape"
   ]
  },
  {
   "cell_type": "code",
   "execution_count": 18,
   "metadata": {
    "collapsed": false
   },
   "outputs": [],
   "source": [
    "names = []\n",
    "names.append(\"id\")\n",
    "for i in range(1,df.shape[1]):\n",
    "    names.append(\"v\"+str(i))"
   ]
  },
  {
   "cell_type": "code",
   "execution_count": 19,
   "metadata": {
    "collapsed": true
   },
   "outputs": [],
   "source": [
    "df.columns = names"
   ]
  },
  {
   "cell_type": "code",
   "execution_count": 594,
   "metadata": {
    "collapsed": false
   },
   "outputs": [
    {
     "data": {
      "text/html": [
       "<div>\n",
       "<table border=\"1\" class=\"dataframe\">\n",
       "  <thead>\n",
       "    <tr style=\"text-align: right;\">\n",
       "      <th></th>\n",
       "      <th>id</th>\n",
       "      <th>v1</th>\n",
       "      <th>v2</th>\n",
       "      <th>v3</th>\n",
       "      <th>v4</th>\n",
       "      <th>v5</th>\n",
       "      <th>v6</th>\n",
       "      <th>v7</th>\n",
       "      <th>v8</th>\n",
       "      <th>v9</th>\n",
       "      <th>...</th>\n",
       "      <th>v159</th>\n",
       "      <th>v160</th>\n",
       "      <th>v161</th>\n",
       "      <th>v162</th>\n",
       "      <th>v163</th>\n",
       "      <th>v164</th>\n",
       "      <th>v165</th>\n",
       "      <th>v166</th>\n",
       "      <th>v167</th>\n",
       "      <th>v168</th>\n",
       "    </tr>\n",
       "  </thead>\n",
       "  <tbody>\n",
       "    <tr>\n",
       "      <th>0</th>\n",
       "      <td>341163402640457_880901755333283</td>\n",
       "      <td>0</td>\n",
       "      <td>48059</td>\n",
       "      <td>61152</td>\n",
       "      <td>70036</td>\n",
       "      <td>77636</td>\n",
       "      <td>84999</td>\n",
       "      <td>91436</td>\n",
       "      <td>96926</td>\n",
       "      <td>101260</td>\n",
       "      <td>...</td>\n",
       "      <td>146636</td>\n",
       "      <td>146673</td>\n",
       "      <td>146698</td>\n",
       "      <td>146731</td>\n",
       "      <td>146745</td>\n",
       "      <td>146779</td>\n",
       "      <td>146801</td>\n",
       "      <td>146834</td>\n",
       "      <td>146862</td>\n",
       "      <td>146880</td>\n",
       "    </tr>\n",
       "  </tbody>\n",
       "</table>\n",
       "<p>1 rows × 169 columns</p>\n",
       "</div>"
      ],
      "text/plain": [
       "                                id  v1     v2     v3     v4     v5     v6  \\\n",
       "0  341163402640457_880901755333283   0  48059  61152  70036  77636  84999   \n",
       "\n",
       "      v7     v8      v9   ...      v159    v160    v161    v162    v163  \\\n",
       "0  91436  96926  101260   ...    146636  146673  146698  146731  146745   \n",
       "\n",
       "     v164    v165    v166    v167    v168  \n",
       "0  146779  146801  146834  146862  146880  \n",
       "\n",
       "[1 rows x 169 columns]"
      ]
     },
     "execution_count": 594,
     "metadata": {},
     "output_type": "execute_result"
    }
   ],
   "source": [
    "df.head(1)"
   ]
  },
  {
   "cell_type": "code",
   "execution_count": 21,
   "metadata": {
    "collapsed": false
   },
   "outputs": [
    {
     "name": "stdout",
     "output_type": "stream",
     "text": [
      "Populating the interactive namespace from numpy and matplotlib\n"
     ]
    }
   ],
   "source": [
    "%pylab inline"
   ]
  },
  {
   "cell_type": "code",
   "execution_count": 23,
   "metadata": {
    "collapsed": false
   },
   "outputs": [],
   "source": [
    "views24 = df[\"v24\"]\n",
    "views168 = df[\"v168\"]"
   ]
  },
  {
   "cell_type": "code",
   "execution_count": 34,
   "metadata": {
    "collapsed": false
   },
   "outputs": [
    {
     "data": {
      "text/plain": [
       "(array([  11.,   92.,  293.,  249.,  139.,   61.,   36.,   19.,   11.,    5.]),\n",
       " array([ 10.20872709,  10.90226178,  11.59579648,  12.28933118,\n",
       "         12.98286587,  13.67640057,  14.36993527,  15.06346996,\n",
       "         15.75700466,  16.45053936,  17.14407405]),\n",
       " <a list of 10 Patch objects>)"
      ]
     },
     "execution_count": 34,
     "metadata": {},
     "output_type": "execute_result"
    },
    {
     "data": {
      "image/png": "[encoded data removed]",
      "text/plain": [
       "<matplotlib.figure.Figure at 0x106f7b550>"
      ]
     },
     "metadata": {},
     "output_type": "display_data"
    },
    {
     "data": {
      "image/png": "[encoded data removed]",
      "text/plain": [
       "<matplotlib.figure.Figure at 0x106ba7290>"
      ]
     },
     "metadata": {},
     "output_type": "display_data"
    },
    {
     "data": {
      "image/png": "[encoded data removed]",
      "text/plain": [
       "<matplotlib.figure.Figure at 0x106d33c50>"
      ]
     },
     "metadata": {},
     "output_type": "display_data"
    }
   ],
   "source": [
    "figure()\n",
    "hist(views168)\n",
    "figure()\n",
    "hist(views168,log=True)\n",
    "figure()\n",
    "hist(np.log(views168))"
   ]
  },
  {
   "cell_type": "code",
   "execution_count": 35,
   "metadata": {
    "collapsed": false,
    "scrolled": true
   },
   "outputs": [
    {
     "data": {
      "text/plain": [
       "(array([  17.,  200.,  334.,  194.,   81.,   46.,   19.,   13.,    9.,    3.]),\n",
       " array([ 19.65675435,  23.23474024,  26.81272613,  30.39071203,\n",
       "         33.96869792,  37.54668381,  41.12466971,  44.7026556 ,\n",
       "         48.28064149,  51.85862739,  55.43661328]),\n",
       " <a list of 10 Patch objects>)"
      ]
     },
     "execution_count": 35,
     "metadata": {},
     "output_type": "execute_result"
    },
    {
     "data": {
      "image/png": "[encoded data removed]",
      "text/plain": [
       "<matplotlib.figure.Figure at 0x106ba76d0>"
      ]
     },
     "metadata": {},
     "output_type": "display_data"
    },
    {
     "data": {
      "image/png": "[encoded data removed]",
      "text/plain": [
       "<matplotlib.figure.Figure at 0x10875b7d0>"
      ]
     },
     "metadata": {},
     "output_type": "display_data"
    }
   ],
   "source": [
    "figure()\n",
    "hist(np.log(views168)**2)\n",
    "figure()\n",
    "hist(np.log10(views168)**2)"
   ]
  },
  {
   "cell_type": "code",
   "execution_count": 53,
   "metadata": {
    "collapsed": false
   },
   "outputs": [],
   "source": [
    "def statsForViews(n):\n",
    "        colname = \"v\"+str(n)\n",
    "        views = df[colname]\n",
    "        print \"- stats for \"+colname\n",
    "        showStats(views)\n",
    "\n",
    "def statsForLogViews(n):\n",
    "    if n>0 and n<=168:\n",
    "        colname = \"v\"+str(n)\n",
    "        views = log(df[colname])\n",
    "        print \"- stats for log(\"+colname+\")\"\n",
    "        showStats(views)\n",
    "        \n",
    "def showStats(views):\n",
    "    colWidth = 10\n",
    "    print \"std: \".ljust(colWidth)+ str(np.std(views))\n",
    "    print \"mean: \".ljust(colWidth)+str(np.mean(views))\n",
    "    print \"median: \".ljust(colWidth)+str(np.median(views))\n",
    "    print \"min: \".ljust(colWidth)+str(np.min(views))\n",
    "    print \"max: \".ljust(colWidth)+str(np.max(views))"
   ]
  },
  {
   "cell_type": "code",
   "execution_count": 58,
   "metadata": {
    "collapsed": false
   },
   "outputs": [
    {
     "name": "stdout",
     "output_type": "stream",
     "text": [
      "- stats for v168\n",
      "std:      2006867.48178\n",
      "mean:     743209.837336\n",
      "median:   252287.0\n",
      "min:      27139\n",
      "max:      27898237\n",
      "- stats for v24\n",
      "std:      923142.428323\n",
      "mean:     376765.517467\n",
      "median:   194357.5\n",
      "min:      21173\n",
      "max:      15284639\n",
      "\n",
      "- stats for log(v168)\n",
      "std:      1.06420054268\n",
      "mean:     12.6547190395\n",
      "median:   12.438321394\n",
      "min:      10.2087270867\n",
      "max:      17.1440740548\n",
      "- stats for log(v24)\n",
      "std:      0.850895711984\n",
      "mean:     12.2909733204\n",
      "median:   12.1774526891\n",
      "min:      9.96048206406\n",
      "max:      16.5423588951\n"
     ]
    }
   ],
   "source": [
    "statsForViews(168)\n",
    "statsForViews(24)\n",
    "print\"\"\n",
    "statsForLogViews(168)\n",
    "statsForLogViews(24)"
   ]
  },
  {
   "cell_type": "code",
   "execution_count": 60,
   "metadata": {
    "collapsed": true
   },
   "outputs": [],
   "source": [
    "v168_log = log(views168)"
   ]
  },
  {
   "cell_type": "code",
   "execution_count": 74,
   "metadata": {
    "collapsed": false
   },
   "outputs": [
    {
     "name": "stdout",
     "output_type": "stream",
     "text": [
      "9.46211741149\n",
      "12863.0920918\n",
      "15.8473206676\n",
      "7627881.17089\n"
     ]
    }
   ],
   "source": [
    "mean168 = np.mean(v168_log)\n",
    "std168 = np.std(v168_log)\n",
    "llimit = mean168 - 3*std168\n",
    "print llimit\n",
    "print exp(llimit)\n",
    "rlimit = mean168 + 3*std168\n",
    "print rlimit\n",
    "print exp(rlimit)"
   ]
  },
  {
   "cell_type": "code",
   "execution_count": 69,
   "metadata": {
    "collapsed": false
   },
   "outputs": [
    {
     "data": {
      "text/plain": [
       "45     16.121436\n",
       "82     16.225912\n",
       "161    16.522099\n",
       "241    15.986644\n",
       "328    16.550891\n",
       "408    16.330674\n",
       "419    16.413787\n",
       "436    16.943528\n",
       "442    16.139058\n",
       "508    17.144074\n",
       "539    16.735745\n",
       "712    16.319377\n",
       "754    15.975859\n",
       "786    16.213897\n",
       "863    15.989286\n",
       "Name: v168, dtype: float64"
      ]
     },
     "execution_count": 69,
     "metadata": {},
     "output_type": "execute_result"
    }
   ],
   "source": [
    "v168_log[v168_log>rlimit]"
   ]
  },
  {
   "cell_type": "code",
   "execution_count": 71,
   "metadata": {
    "collapsed": false
   },
   "outputs": [
    {
     "data": {
      "text/plain": [
       "45     10033455\n",
       "82     11138435\n",
       "161    14978083\n",
       "241     8768213\n",
       "328    15415606\n",
       "408    12368624\n",
       "419    13440554\n",
       "436    22828673\n",
       "442    10211832\n",
       "508    27898237\n",
       "539    18545642\n",
       "712    12229694\n",
       "754     8674159\n",
       "786    11005409\n",
       "863     8791417\n",
       "Name: v168, dtype: int64"
      ]
     },
     "execution_count": 71,
     "metadata": {},
     "output_type": "execute_result"
    }
   ],
   "source": [
    "views168[v168_log>rlimit]"
   ]
  },
  {
   "cell_type": "code",
   "execution_count": 75,
   "metadata": {
    "collapsed": false
   },
   "outputs": [
    {
     "data": {
      "text/html": [
       "<div>\n",
       "<table border=\"1\" class=\"dataframe\">\n",
       "  <thead>\n",
       "    <tr style=\"text-align: right;\">\n",
       "      <th></th>\n",
       "      <th>id</th>\n",
       "      <th>v1</th>\n",
       "      <th>v2</th>\n",
       "      <th>v3</th>\n",
       "      <th>v4</th>\n",
       "      <th>v5</th>\n",
       "      <th>v6</th>\n",
       "      <th>v7</th>\n",
       "      <th>v8</th>\n",
       "      <th>v9</th>\n",
       "      <th>...</th>\n",
       "      <th>v159</th>\n",
       "      <th>v160</th>\n",
       "      <th>v161</th>\n",
       "      <th>v162</th>\n",
       "      <th>v163</th>\n",
       "      <th>v164</th>\n",
       "      <th>v165</th>\n",
       "      <th>v166</th>\n",
       "      <th>v167</th>\n",
       "      <th>v168</th>\n",
       "    </tr>\n",
       "  </thead>\n",
       "  <tbody>\n",
       "    <tr>\n",
       "      <th>45</th>\n",
       "      <td>341163402640457_883980331692092</td>\n",
       "      <td>49977</td>\n",
       "      <td>98266</td>\n",
       "      <td>145737</td>\n",
       "      <td>194693</td>\n",
       "      <td>242437</td>\n",
       "      <td>286884</td>\n",
       "      <td>326954</td>\n",
       "      <td>362218</td>\n",
       "      <td>399272</td>\n",
       "      <td>...</td>\n",
       "      <td>9816339</td>\n",
       "      <td>9844733</td>\n",
       "      <td>9873049</td>\n",
       "      <td>9898949</td>\n",
       "      <td>9923881</td>\n",
       "      <td>9947421</td>\n",
       "      <td>9970041</td>\n",
       "      <td>9991540</td>\n",
       "      <td>10012671</td>\n",
       "      <td>10033455</td>\n",
       "    </tr>\n",
       "    <tr>\n",
       "      <th>82</th>\n",
       "      <td>341163402640457_886602391429886</td>\n",
       "      <td>83291</td>\n",
       "      <td>169013</td>\n",
       "      <td>249904</td>\n",
       "      <td>331721</td>\n",
       "      <td>415777</td>\n",
       "      <td>494565</td>\n",
       "      <td>566402</td>\n",
       "      <td>629365</td>\n",
       "      <td>687308</td>\n",
       "      <td>...</td>\n",
       "      <td>11094129</td>\n",
       "      <td>11099227</td>\n",
       "      <td>11104445</td>\n",
       "      <td>11109618</td>\n",
       "      <td>11114814</td>\n",
       "      <td>11119697</td>\n",
       "      <td>11124768</td>\n",
       "      <td>11129753</td>\n",
       "      <td>11134281</td>\n",
       "      <td>11138435</td>\n",
       "    </tr>\n",
       "    <tr>\n",
       "      <th>161</th>\n",
       "      <td>341163402640457_893289064094552</td>\n",
       "      <td>72015</td>\n",
       "      <td>129106</td>\n",
       "      <td>175588</td>\n",
       "      <td>217807</td>\n",
       "      <td>253318</td>\n",
       "      <td>289830</td>\n",
       "      <td>332860</td>\n",
       "      <td>397179</td>\n",
       "      <td>506014</td>\n",
       "      <td>...</td>\n",
       "      <td>14742774</td>\n",
       "      <td>14773267</td>\n",
       "      <td>14802693</td>\n",
       "      <td>14833545</td>\n",
       "      <td>14863666</td>\n",
       "      <td>14887462</td>\n",
       "      <td>14913084</td>\n",
       "      <td>14935097</td>\n",
       "      <td>14956882</td>\n",
       "      <td>14978083</td>\n",
       "    </tr>\n",
       "    <tr>\n",
       "      <th>241</th>\n",
       "      <td>341163402640457_899644443459014</td>\n",
       "      <td>93124</td>\n",
       "      <td>199273</td>\n",
       "      <td>328176</td>\n",
       "      <td>475577</td>\n",
       "      <td>621834</td>\n",
       "      <td>744537</td>\n",
       "      <td>839289</td>\n",
       "      <td>911370</td>\n",
       "      <td>968198</td>\n",
       "      <td>...</td>\n",
       "      <td>8589799</td>\n",
       "      <td>8609798</td>\n",
       "      <td>8631591</td>\n",
       "      <td>8652947</td>\n",
       "      <td>8672899</td>\n",
       "      <td>8692018</td>\n",
       "      <td>8711491</td>\n",
       "      <td>8730559</td>\n",
       "      <td>8749394</td>\n",
       "      <td>8768213</td>\n",
       "    </tr>\n",
       "    <tr>\n",
       "      <th>328</th>\n",
       "      <td>341163402640457_904856186271173</td>\n",
       "      <td>139518</td>\n",
       "      <td>325163</td>\n",
       "      <td>535548</td>\n",
       "      <td>782609</td>\n",
       "      <td>1014371</td>\n",
       "      <td>1277705</td>\n",
       "      <td>1509088</td>\n",
       "      <td>1764893</td>\n",
       "      <td>2000736</td>\n",
       "      <td>...</td>\n",
       "      <td>15388602</td>\n",
       "      <td>15392395</td>\n",
       "      <td>15395263</td>\n",
       "      <td>15399175</td>\n",
       "      <td>15402228</td>\n",
       "      <td>15405074</td>\n",
       "      <td>15407858</td>\n",
       "      <td>15410740</td>\n",
       "      <td>15413253</td>\n",
       "      <td>15415606</td>\n",
       "    </tr>\n",
       "    <tr>\n",
       "      <th>408</th>\n",
       "      <td>341163402640457_909732239116901</td>\n",
       "      <td>50422</td>\n",
       "      <td>99415</td>\n",
       "      <td>149658</td>\n",
       "      <td>159470</td>\n",
       "      <td>208229</td>\n",
       "      <td>243056</td>\n",
       "      <td>264071</td>\n",
       "      <td>282686</td>\n",
       "      <td>302224</td>\n",
       "      <td>...</td>\n",
       "      <td>12178625</td>\n",
       "      <td>12201900</td>\n",
       "      <td>12225459</td>\n",
       "      <td>12247753</td>\n",
       "      <td>12268478</td>\n",
       "      <td>12291947</td>\n",
       "      <td>12314227</td>\n",
       "      <td>12333639</td>\n",
       "      <td>12351818</td>\n",
       "      <td>12368624</td>\n",
       "    </tr>\n",
       "    <tr>\n",
       "      <th>419</th>\n",
       "      <td>341163402640457_910489299041195</td>\n",
       "      <td>27943</td>\n",
       "      <td>427931</td>\n",
       "      <td>1074644</td>\n",
       "      <td>1709611</td>\n",
       "      <td>2337572</td>\n",
       "      <td>2849395</td>\n",
       "      <td>3280907</td>\n",
       "      <td>3698991</td>\n",
       "      <td>4011457</td>\n",
       "      <td>...</td>\n",
       "      <td>13429474</td>\n",
       "      <td>13430742</td>\n",
       "      <td>13432078</td>\n",
       "      <td>13433315</td>\n",
       "      <td>13434551</td>\n",
       "      <td>13435755</td>\n",
       "      <td>13436818</td>\n",
       "      <td>13438068</td>\n",
       "      <td>13439393</td>\n",
       "      <td>13440554</td>\n",
       "    </tr>\n",
       "    <tr>\n",
       "      <th>436</th>\n",
       "      <td>341163402640457_911299422293516</td>\n",
       "      <td>122353</td>\n",
       "      <td>973903</td>\n",
       "      <td>1737730</td>\n",
       "      <td>2518686</td>\n",
       "      <td>3306221</td>\n",
       "      <td>4023023</td>\n",
       "      <td>4631497</td>\n",
       "      <td>5121304</td>\n",
       "      <td>5538428</td>\n",
       "      <td>...</td>\n",
       "      <td>22727302</td>\n",
       "      <td>22738183</td>\n",
       "      <td>22750857</td>\n",
       "      <td>22763298</td>\n",
       "      <td>22773150</td>\n",
       "      <td>22783548</td>\n",
       "      <td>22794402</td>\n",
       "      <td>22805975</td>\n",
       "      <td>22816650</td>\n",
       "      <td>22828673</td>\n",
       "    </tr>\n",
       "    <tr>\n",
       "      <th>442</th>\n",
       "      <td>341163402640457_912081598881965</td>\n",
       "      <td>86309</td>\n",
       "      <td>187521</td>\n",
       "      <td>310630</td>\n",
       "      <td>473073</td>\n",
       "      <td>669354</td>\n",
       "      <td>886439</td>\n",
       "      <td>1109838</td>\n",
       "      <td>1332495</td>\n",
       "      <td>1556940</td>\n",
       "      <td>...</td>\n",
       "      <td>10169909</td>\n",
       "      <td>10173093</td>\n",
       "      <td>10175694</td>\n",
       "      <td>10178418</td>\n",
       "      <td>10182407</td>\n",
       "      <td>10187048</td>\n",
       "      <td>10192034</td>\n",
       "      <td>10199070</td>\n",
       "      <td>10205724</td>\n",
       "      <td>10211832</td>\n",
       "    </tr>\n",
       "    <tr>\n",
       "      <th>508</th>\n",
       "      <td>341163402640457_916432811780177</td>\n",
       "      <td>83944</td>\n",
       "      <td>197165</td>\n",
       "      <td>343932</td>\n",
       "      <td>549952</td>\n",
       "      <td>821729</td>\n",
       "      <td>1106737</td>\n",
       "      <td>1535196</td>\n",
       "      <td>2001664</td>\n",
       "      <td>2463169</td>\n",
       "      <td>...</td>\n",
       "      <td>27692296</td>\n",
       "      <td>27707149</td>\n",
       "      <td>27725368</td>\n",
       "      <td>27748992</td>\n",
       "      <td>27772615</td>\n",
       "      <td>27798197</td>\n",
       "      <td>27824216</td>\n",
       "      <td>27849787</td>\n",
       "      <td>27874541</td>\n",
       "      <td>27898237</td>\n",
       "    </tr>\n",
       "    <tr>\n",
       "      <th>539</th>\n",
       "      <td>341163402640457_917897414967050</td>\n",
       "      <td>189528</td>\n",
       "      <td>597899</td>\n",
       "      <td>1235907</td>\n",
       "      <td>2017563</td>\n",
       "      <td>2906444</td>\n",
       "      <td>3854138</td>\n",
       "      <td>4819420</td>\n",
       "      <td>5799610</td>\n",
       "      <td>6752819</td>\n",
       "      <td>...</td>\n",
       "      <td>18531359</td>\n",
       "      <td>18533225</td>\n",
       "      <td>18534940</td>\n",
       "      <td>18536403</td>\n",
       "      <td>18537852</td>\n",
       "      <td>18538488</td>\n",
       "      <td>18540372</td>\n",
       "      <td>18541675</td>\n",
       "      <td>18543274</td>\n",
       "      <td>18545642</td>\n",
       "    </tr>\n",
       "    <tr>\n",
       "      <th>712</th>\n",
       "      <td>341163402640457_925956260827832</td>\n",
       "      <td>79850</td>\n",
       "      <td>144067</td>\n",
       "      <td>195125</td>\n",
       "      <td>238390</td>\n",
       "      <td>273279</td>\n",
       "      <td>305462</td>\n",
       "      <td>338265</td>\n",
       "      <td>373692</td>\n",
       "      <td>420623</td>\n",
       "      <td>...</td>\n",
       "      <td>11867894</td>\n",
       "      <td>11912769</td>\n",
       "      <td>11957237</td>\n",
       "      <td>12000901</td>\n",
       "      <td>12043625</td>\n",
       "      <td>12082626</td>\n",
       "      <td>12118981</td>\n",
       "      <td>12155054</td>\n",
       "      <td>12192374</td>\n",
       "      <td>12229694</td>\n",
       "    </tr>\n",
       "    <tr>\n",
       "      <th>754</th>\n",
       "      <td>341163402640457_927824177307707</td>\n",
       "      <td>61611</td>\n",
       "      <td>145149</td>\n",
       "      <td>196453</td>\n",
       "      <td>235062</td>\n",
       "      <td>264987</td>\n",
       "      <td>288296</td>\n",
       "      <td>305193</td>\n",
       "      <td>320011</td>\n",
       "      <td>338988</td>\n",
       "      <td>...</td>\n",
       "      <td>8161386</td>\n",
       "      <td>8217976</td>\n",
       "      <td>8272646</td>\n",
       "      <td>8327930</td>\n",
       "      <td>8386866</td>\n",
       "      <td>8443134</td>\n",
       "      <td>8498166</td>\n",
       "      <td>8549698</td>\n",
       "      <td>8608673</td>\n",
       "      <td>8674159</td>\n",
       "    </tr>\n",
       "    <tr>\n",
       "      <th>786</th>\n",
       "      <td>341163402640457_929331903823601</td>\n",
       "      <td>144468</td>\n",
       "      <td>280540</td>\n",
       "      <td>403527</td>\n",
       "      <td>520385</td>\n",
       "      <td>640841</td>\n",
       "      <td>760711</td>\n",
       "      <td>875537</td>\n",
       "      <td>985931</td>\n",
       "      <td>1092646</td>\n",
       "      <td>...</td>\n",
       "      <td>10939862</td>\n",
       "      <td>10945437</td>\n",
       "      <td>10951535</td>\n",
       "      <td>10957674</td>\n",
       "      <td>10963875</td>\n",
       "      <td>10969739</td>\n",
       "      <td>10978091</td>\n",
       "      <td>10986997</td>\n",
       "      <td>10996232</td>\n",
       "      <td>11005409</td>\n",
       "    </tr>\n",
       "    <tr>\n",
       "      <th>863</th>\n",
       "      <td>341163402640457_932143250209133</td>\n",
       "      <td>85705</td>\n",
       "      <td>150825</td>\n",
       "      <td>199065</td>\n",
       "      <td>236727</td>\n",
       "      <td>265829</td>\n",
       "      <td>288706</td>\n",
       "      <td>308462</td>\n",
       "      <td>328458</td>\n",
       "      <td>353183</td>\n",
       "      <td>...</td>\n",
       "      <td>8556714</td>\n",
       "      <td>8584089</td>\n",
       "      <td>8606130</td>\n",
       "      <td>8628908</td>\n",
       "      <td>8655921</td>\n",
       "      <td>8680442</td>\n",
       "      <td>8705304</td>\n",
       "      <td>8732430</td>\n",
       "      <td>8761225</td>\n",
       "      <td>8791417</td>\n",
       "    </tr>\n",
       "  </tbody>\n",
       "</table>\n",
       "<p>15 rows × 169 columns</p>\n",
       "</div>"
      ],
      "text/plain": [
       "                                  id      v1      v2       v3       v4  \\\n",
       "45   341163402640457_883980331692092   49977   98266   145737   194693   \n",
       "82   341163402640457_886602391429886   83291  169013   249904   331721   \n",
       "161  341163402640457_893289064094552   72015  129106   175588   217807   \n",
       "241  341163402640457_899644443459014   93124  199273   328176   475577   \n",
       "328  341163402640457_904856186271173  139518  325163   535548   782609   \n",
       "408  341163402640457_909732239116901   50422   99415   149658   159470   \n",
       "419  341163402640457_910489299041195   27943  427931  1074644  1709611   \n",
       "436  341163402640457_911299422293516  122353  973903  1737730  2518686   \n",
       "442  341163402640457_912081598881965   86309  187521   310630   473073   \n",
       "508  341163402640457_916432811780177   83944  197165   343932   549952   \n",
       "539  341163402640457_917897414967050  189528  597899  1235907  2017563   \n",
       "712  341163402640457_925956260827832   79850  144067   195125   238390   \n",
       "754  341163402640457_927824177307707   61611  145149   196453   235062   \n",
       "786  341163402640457_929331903823601  144468  280540   403527   520385   \n",
       "863  341163402640457_932143250209133   85705  150825   199065   236727   \n",
       "\n",
       "          v5       v6       v7       v8       v9    ...         v159  \\\n",
       "45    242437   286884   326954   362218   399272    ...      9816339   \n",
       "82    415777   494565   566402   629365   687308    ...     11094129   \n",
       "161   253318   289830   332860   397179   506014    ...     14742774   \n",
       "241   621834   744537   839289   911370   968198    ...      8589799   \n",
       "328  1014371  1277705  1509088  1764893  2000736    ...     15388602   \n",
       "408   208229   243056   264071   282686   302224    ...     12178625   \n",
       "419  2337572  2849395  3280907  3698991  4011457    ...     13429474   \n",
       "436  3306221  4023023  4631497  5121304  5538428    ...     22727302   \n",
       "442   669354   886439  1109838  1332495  1556940    ...     10169909   \n",
       "508   821729  1106737  1535196  2001664  2463169    ...     27692296   \n",
       "539  2906444  3854138  4819420  5799610  6752819    ...     18531359   \n",
       "712   273279   305462   338265   373692   420623    ...     11867894   \n",
       "754   264987   288296   305193   320011   338988    ...      8161386   \n",
       "786   640841   760711   875537   985931  1092646    ...     10939862   \n",
       "863   265829   288706   308462   328458   353183    ...      8556714   \n",
       "\n",
       "         v160      v161      v162      v163      v164      v165      v166  \\\n",
       "45    9844733   9873049   9898949   9923881   9947421   9970041   9991540   \n",
       "82   11099227  11104445  11109618  11114814  11119697  11124768  11129753   \n",
       "161  14773267  14802693  14833545  14863666  14887462  14913084  14935097   \n",
       "241   8609798   8631591   8652947   8672899   8692018   8711491   8730559   \n",
       "328  15392395  15395263  15399175  15402228  15405074  15407858  15410740   \n",
       "408  12201900  12225459  12247753  12268478  12291947  12314227  12333639   \n",
       "419  13430742  13432078  13433315  13434551  13435755  13436818  13438068   \n",
       "436  22738183  22750857  22763298  22773150  22783548  22794402  22805975   \n",
       "442  10173093  10175694  10178418  10182407  10187048  10192034  10199070   \n",
       "508  27707149  27725368  27748992  27772615  27798197  27824216  27849787   \n",
       "539  18533225  18534940  18536403  18537852  18538488  18540372  18541675   \n",
       "712  11912769  11957237  12000901  12043625  12082626  12118981  12155054   \n",
       "754   8217976   8272646   8327930   8386866   8443134   8498166   8549698   \n",
       "786  10945437  10951535  10957674  10963875  10969739  10978091  10986997   \n",
       "863   8584089   8606130   8628908   8655921   8680442   8705304   8732430   \n",
       "\n",
       "         v167      v168  \n",
       "45   10012671  10033455  \n",
       "82   11134281  11138435  \n",
       "161  14956882  14978083  \n",
       "241   8749394   8768213  \n",
       "328  15413253  15415606  \n",
       "408  12351818  12368624  \n",
       "419  13439393  13440554  \n",
       "436  22816650  22828673  \n",
       "442  10205724  10211832  \n",
       "508  27874541  27898237  \n",
       "539  18543274  18545642  \n",
       "712  12192374  12229694  \n",
       "754   8608673   8674159  \n",
       "786  10996232  11005409  \n",
       "863   8761225   8791417  \n",
       "\n",
       "[15 rows x 169 columns]"
      ]
     },
     "execution_count": 75,
     "metadata": {},
     "output_type": "execute_result"
    }
   ],
   "source": [
    "df[v168_log>rlimit]"
   ]
  },
  {
   "cell_type": "code",
   "execution_count": 973,
   "metadata": {
    "collapsed": false
   },
   "outputs": [
    {
     "data": {
      "text/plain": [
       "(901, 169)"
      ]
     },
     "execution_count": 973,
     "metadata": {},
     "output_type": "execute_result"
    }
   ],
   "source": [
    "df_no = df[v168_log<rlimit].copy()\n",
    "df_no.shape"
   ]
  },
  {
   "cell_type": "code",
   "execution_count": 974,
   "metadata": {
    "collapsed": false
   },
   "outputs": [
    {
     "data": {
      "text/plain": [
       "(871, 169)"
      ]
     },
     "execution_count": 974,
     "metadata": {},
     "output_type": "execute_result"
    }
   ],
   "source": [
    "df_no = df_no[df_no[\"v1\"]>0]\n",
    "df_no.shape"
   ]
  },
  {
   "cell_type": "code",
   "execution_count": 975,
   "metadata": {
    "collapsed": false
   },
   "outputs": [
    {
     "data": {
      "text/html": [
       "<div>\n",
       "<table border=\"1\" class=\"dataframe\">\n",
       "  <thead>\n",
       "    <tr style=\"text-align: right;\">\n",
       "      <th></th>\n",
       "      <th>id</th>\n",
       "      <th>v1</th>\n",
       "      <th>v2</th>\n",
       "      <th>v3</th>\n",
       "      <th>v4</th>\n",
       "      <th>v5</th>\n",
       "      <th>v6</th>\n",
       "      <th>v7</th>\n",
       "      <th>v8</th>\n",
       "      <th>v9</th>\n",
       "      <th>...</th>\n",
       "      <th>v159</th>\n",
       "      <th>v160</th>\n",
       "      <th>v161</th>\n",
       "      <th>v162</th>\n",
       "      <th>v163</th>\n",
       "      <th>v164</th>\n",
       "      <th>v165</th>\n",
       "      <th>v166</th>\n",
       "      <th>v167</th>\n",
       "      <th>v168</th>\n",
       "    </tr>\n",
       "  </thead>\n",
       "  <tbody>\n",
       "    <tr>\n",
       "      <th>0</th>\n",
       "      <td>341163402640457_880956415327817</td>\n",
       "      <td>41457</td>\n",
       "      <td>82351</td>\n",
       "      <td>121691</td>\n",
       "      <td>162281</td>\n",
       "      <td>202702</td>\n",
       "      <td>241761</td>\n",
       "      <td>278878</td>\n",
       "      <td>314355</td>\n",
       "      <td>347958</td>\n",
       "      <td>...</td>\n",
       "      <td>1947135</td>\n",
       "      <td>1948609</td>\n",
       "      <td>1950140</td>\n",
       "      <td>1951974</td>\n",
       "      <td>1954527</td>\n",
       "      <td>1957281</td>\n",
       "      <td>1961155</td>\n",
       "      <td>1965494</td>\n",
       "      <td>1969985</td>\n",
       "      <td>1974771</td>\n",
       "    </tr>\n",
       "    <tr>\n",
       "      <th>1</th>\n",
       "      <td>341163402640457_880993045324154</td>\n",
       "      <td>54229</td>\n",
       "      <td>94312</td>\n",
       "      <td>125887</td>\n",
       "      <td>150893</td>\n",
       "      <td>171727</td>\n",
       "      <td>189382</td>\n",
       "      <td>205866</td>\n",
       "      <td>220667</td>\n",
       "      <td>234427</td>\n",
       "      <td>...</td>\n",
       "      <td>627780</td>\n",
       "      <td>631509</td>\n",
       "      <td>635930</td>\n",
       "      <td>640642</td>\n",
       "      <td>644468</td>\n",
       "      <td>648113</td>\n",
       "      <td>650700</td>\n",
       "      <td>654185</td>\n",
       "      <td>658586</td>\n",
       "      <td>663352</td>\n",
       "    </tr>\n",
       "    <tr>\n",
       "      <th>2</th>\n",
       "      <td>341163402640457_881021215321337</td>\n",
       "      <td>61661</td>\n",
       "      <td>113998</td>\n",
       "      <td>156881</td>\n",
       "      <td>194734</td>\n",
       "      <td>225624</td>\n",
       "      <td>255281</td>\n",
       "      <td>282687</td>\n",
       "      <td>307369</td>\n",
       "      <td>329960</td>\n",
       "      <td>...</td>\n",
       "      <td>1223954</td>\n",
       "      <td>1226818</td>\n",
       "      <td>1229271</td>\n",
       "      <td>1232155</td>\n",
       "      <td>1235054</td>\n",
       "      <td>1238125</td>\n",
       "      <td>1241653</td>\n",
       "      <td>1245985</td>\n",
       "      <td>1250054</td>\n",
       "      <td>1254839</td>\n",
       "    </tr>\n",
       "    <tr>\n",
       "      <th>3</th>\n",
       "      <td>341163402640457_881059645317494</td>\n",
       "      <td>22581</td>\n",
       "      <td>34326</td>\n",
       "      <td>42179</td>\n",
       "      <td>48756</td>\n",
       "      <td>54004</td>\n",
       "      <td>58748</td>\n",
       "      <td>62944</td>\n",
       "      <td>66424</td>\n",
       "      <td>69449</td>\n",
       "      <td>...</td>\n",
       "      <td>114291</td>\n",
       "      <td>114322</td>\n",
       "      <td>114342</td>\n",
       "      <td>114359</td>\n",
       "      <td>114409</td>\n",
       "      <td>114444</td>\n",
       "      <td>114494</td>\n",
       "      <td>114518</td>\n",
       "      <td>114534</td>\n",
       "      <td>114546</td>\n",
       "    </tr>\n",
       "    <tr>\n",
       "      <th>4</th>\n",
       "      <td>341163402640457_881099615313497</td>\n",
       "      <td>20540</td>\n",
       "      <td>33373</td>\n",
       "      <td>42701</td>\n",
       "      <td>50692</td>\n",
       "      <td>57932</td>\n",
       "      <td>63788</td>\n",
       "      <td>68611</td>\n",
       "      <td>72270</td>\n",
       "      <td>75336</td>\n",
       "      <td>...</td>\n",
       "      <td>152985</td>\n",
       "      <td>153006</td>\n",
       "      <td>153060</td>\n",
       "      <td>153106</td>\n",
       "      <td>153145</td>\n",
       "      <td>153184</td>\n",
       "      <td>153219</td>\n",
       "      <td>153251</td>\n",
       "      <td>153298</td>\n",
       "      <td>153338</td>\n",
       "    </tr>\n",
       "  </tbody>\n",
       "</table>\n",
       "<p>5 rows × 169 columns</p>\n",
       "</div>"
      ],
      "text/plain": [
       "                                id     v1      v2      v3      v4      v5  \\\n",
       "0  341163402640457_880956415327817  41457   82351  121691  162281  202702   \n",
       "1  341163402640457_880993045324154  54229   94312  125887  150893  171727   \n",
       "2  341163402640457_881021215321337  61661  113998  156881  194734  225624   \n",
       "3  341163402640457_881059645317494  22581   34326   42179   48756   54004   \n",
       "4  341163402640457_881099615313497  20540   33373   42701   50692   57932   \n",
       "\n",
       "       v6      v7      v8      v9   ...        v159     v160     v161  \\\n",
       "0  241761  278878  314355  347958   ...     1947135  1948609  1950140   \n",
       "1  189382  205866  220667  234427   ...      627780   631509   635930   \n",
       "2  255281  282687  307369  329960   ...     1223954  1226818  1229271   \n",
       "3   58748   62944   66424   69449   ...      114291   114322   114342   \n",
       "4   63788   68611   72270   75336   ...      152985   153006   153060   \n",
       "\n",
       "      v162     v163     v164     v165     v166     v167     v168  \n",
       "0  1951974  1954527  1957281  1961155  1965494  1969985  1974771  \n",
       "1   640642   644468   648113   650700   654185   658586   663352  \n",
       "2  1232155  1235054  1238125  1241653  1245985  1250054  1254839  \n",
       "3   114359   114409   114444   114494   114518   114534   114546  \n",
       "4   153106   153145   153184   153219   153251   153298   153338  \n",
       "\n",
       "[5 rows x 169 columns]"
      ]
     },
     "execution_count": 975,
     "metadata": {},
     "output_type": "execute_result"
    }
   ],
   "source": [
    "df_no = df_no.reset_index(drop=True)\n",
    "df_no.head()"
   ]
  },
  {
   "cell_type": "code",
   "execution_count": 600,
   "metadata": {
    "collapsed": false
   },
   "outputs": [
    {
     "data": {
      "text/plain": [
       "(array([   8.,   41.,  139.,  252.,  183.,  117.,   56.,   41.,   18.,   16.]),\n",
       " array([ 10.20872709,  10.76532156,  11.32191603,  11.8785105 ,\n",
       "         12.43510498,  12.99169945,  13.54829392,  14.10488839,\n",
       "         14.66148286,  15.21807734,  15.77467181]),\n",
       " <a list of 10 Patch objects>)"
      ]
     },
     "execution_count": 600,
     "metadata": {},
     "output_type": "execute_result"
    },
    {
     "data": {
      "image/png": "[encoded data removed]",
      "text/plain": [
       "<matplotlib.figure.Figure at 0x11544cad0>"
      ]
     },
     "metadata": {},
     "output_type": "display_data"
    },
    {
     "data": {
      "image/png": "[encoded data removed]",
      "text/plain": [
       "<matplotlib.figure.Figure at 0x115426150>"
      ]
     },
     "metadata": {},
     "output_type": "display_data"
    }
   ],
   "source": [
    "figure()\n",
    "hist(np.log(views168))\n",
    "figure()\n",
    "hist(np.log(df_no[\"v168\"]))"
   ]
  },
  {
   "cell_type": "code",
   "execution_count": 765,
   "metadata": {
    "collapsed": false
   },
   "outputs": [],
   "source": [
    "valuesOnly = df_no.loc[:,\"v1\":]\n",
    "valuesOnly = valuesOnly"
   ]
  },
  {
   "cell_type": "code",
   "execution_count": 766,
   "metadata": {
    "collapsed": false
   },
   "outputs": [],
   "source": [
    "valuesMatrix = valuesOnly.as_matrix()\n",
    "valuesMatrixLog = np.log(valuesMatrix)"
   ]
  },
  {
   "cell_type": "code",
   "execution_count": 767,
   "metadata": {
    "collapsed": false
   },
   "outputs": [],
   "source": [
    "cc = np.corrcoef(valuesMatrix.transpose())\n",
    "cc_log = np.corrcoef(valuesMatrixLog.transpose())"
   ]
  },
  {
   "cell_type": "code",
   "execution_count": 768,
   "metadata": {
    "collapsed": false
   },
   "outputs": [],
   "source": [
    "cc168 = cc[-1]\n",
    "cc_log168 = cc_log[-1]"
   ]
  },
  {
   "cell_type": "code",
   "execution_count": 605,
   "metadata": {
    "collapsed": false,
    "scrolled": true
   },
   "outputs": [
    {
     "data": {
      "image/png": "[encoded data removed]",
      "text/plain": [
       "<matplotlib.figure.Figure at 0x11544cc90>"
      ]
     },
     "metadata": {},
     "output_type": "display_data"
    }
   ],
   "source": [
    "plot(cc168,color=\"red\")\n",
    "plot(cc_log168,color=\"blue\")\n",
    "show()"
   ]
  },
  {
   "cell_type": "code",
   "execution_count": 606,
   "metadata": {
    "collapsed": false
   },
   "outputs": [],
   "source": [
    "cc24 = cc168[:24]\n",
    "cc_log24 = cc_log168[:24]"
   ]
  },
  {
   "cell_type": "code",
   "execution_count": 607,
   "metadata": {
    "collapsed": false
   },
   "outputs": [
    {
     "data": {
      "image/png": "[encoded data removed]",
      "text/plain": [
       "<matplotlib.figure.Figure at 0x11495e710>"
      ]
     },
     "metadata": {},
     "output_type": "display_data"
    }
   ],
   "source": [
    "plot(cc24,color=\"red\")\n",
    "plot(cc_log24,color=\"blue\")\n",
    "show()"
   ]
  },
  {
   "cell_type": "code",
   "execution_count": 255,
   "metadata": {
    "collapsed": false
   },
   "outputs": [],
   "source": [
    "from sklearn.linear_model import LinearRegression"
   ]
  },
  {
   "cell_type": "code",
   "execution_count": 876,
   "metadata": {
    "collapsed": false
   },
   "outputs": [],
   "source": [
    "def extractHourViews(viewsMatrix):\n",
    "    for i in range(viewsMatrix.shape[0]):\n",
    "        for j in range(viewsMatrix.shape[1]-1,0,-1):\n",
    "            viewsMatrix[i,j] = viewsMatrix[i,j] - viewsMatrix[i,j-1]\n",
    "    return viewsMatrix"
   ]
  },
  {
   "cell_type": "code",
   "execution_count": 1048,
   "metadata": {
    "collapsed": false
   },
   "outputs": [],
   "source": [
    "def tryPredictor(n):\n",
    "    featureColName = \"v\"+str(n)\n",
    "    x = training.loc[:,featureColName].copy()\n",
    "    y = training.loc[:,\"v168\"].copy()\n",
    "    x = x.reshape(x.shape[0],1)\n",
    "    y = y.reshape(y.shape[0],1)\n",
    "\n",
    "    x = np.log(x+1)\n",
    "    y = np.log(y)\n",
    "    \n",
    "    lr = LinearRegression(normalize=True, fit_intercept =False)\n",
    "    lr.fit(x,y)\n",
    "\n",
    "    test_x = testing.loc[:,featureColName].copy()\n",
    "    test_y = testing.loc[:,\"v168\"]\n",
    "    test_x= test_x.reshape(test_x.shape[0],1).copy()\n",
    "    test_y = test_y.reshape(test_y.shape[0],1)\n",
    "    \n",
    "    test_x = np.log(test_x+1)\n",
    "        \n",
    "    preds = np.exp(lr.predict(test_x))\n",
    "    \n",
    "    #print mrse(preds,test_y)\n",
    "    return mrse(preds,test_y)"
   ]
  },
  {
   "cell_type": "code",
   "execution_count": 1049,
   "metadata": {
    "collapsed": true
   },
   "outputs": [],
   "source": [
    "def tryMultiPredictor(n):\n",
    "    featureColName = \"v\"+str(n)\n",
    "    x = training.loc[:,\"v1\":featureColName].copy()\n",
    "    y = training.loc[:,\"v168\"].copy()\n",
    "    \n",
    "    x = extractHourViews(np.asmatrix(x))\n",
    "    y = y.reshape(y.shape[0],1)\n",
    "\n",
    "    x = np.log(x+1)\n",
    "    y = np.log(y)\n",
    "    \n",
    "    lr = LinearRegression(normalize=True, fit_intercept = False)\n",
    "    lr.fit(x,y)\n",
    "\n",
    "    test_x = testing.loc[:,\"v1\":featureColName].copy()\n",
    "    test_y = testing.loc[:,\"v168\"].copy()\n",
    "    test_x= extractHourViews(np.asmatrix(test_x))\n",
    "    test_y = test_y.reshape(test_y.shape[0],1)\n",
    "    \n",
    "    test_x = np.log(test_x+1)\n",
    "        \n",
    "    preds = np.exp(lr.predict(test_x))\n",
    "\n",
    "    #print mrse(preds,test_y)\n",
    "    return mrse(preds,test_y)"
   ]
  },
  {
   "cell_type": "code",
   "execution_count": 804,
   "metadata": {
    "collapsed": false,
    "scrolled": true
   },
   "outputs": [
    {
     "name": "stdout",
     "output_type": "stream",
     "text": [
      "7.2687822505\n"
     ]
    },
    {
     "data": {
      "text/plain": [
       "7.2687822504970034"
      ]
     },
     "execution_count": 804,
     "metadata": {},
     "output_type": "execute_result"
    }
   ],
   "source": [
    "tryPredictor(24)\n",
    "tryMultiPredictor(24)"
   ]
  },
  {
   "cell_type": "code",
   "execution_count": 1045,
   "metadata": {
    "collapsed": false,
    "scrolled": false
   },
   "outputs": [],
   "source": [
    "count = df_no.shape[0]\n",
    "indexes = np.arange(count)\n",
    "np.random.shuffle(indexes)\n",
    "treshold = int(count*0.9)\n",
    "training = df_no.loc[indexes][:treshold].copy()\n",
    "training = training.reset_index(drop=True)\n",
    "testing = df_no.loc[indexes][treshold:].copy()\n",
    "testing = testing.reset_index(drop=True)"
   ]
  },
  {
   "cell_type": "code",
   "execution_count": 1055,
   "metadata": {
    "collapsed": false
   },
   "outputs": [
    {
     "data": {
      "text/plain": [
       "[<matplotlib.lines.Line2D at 0x1285a22d0>]"
      ]
     },
     "execution_count": 1055,
     "metadata": {},
     "output_type": "execute_result"
    },
    {
     "data": {
      "image/png": "[encoded data removed]",
      "text/plain": [
       "<matplotlib.figure.Figure at 0x1262c6f50>"
      ]
     },
     "metadata": {},
     "output_type": "display_data"
    }
   ],
   "source": [
    "n = 24\n",
    "results = []\n",
    "resultsMulti = []\n",
    "hours = range(1,n+1)\n",
    "for i in hours:\n",
    "    resultsMulti.append(tryMultiPredictor(i))\n",
    "    results.append(tryPredictor(i))\n",
    "\n",
    "\n",
    "plot(hours,results,color=\"red\")\n",
    "plot(resultsMulti,color=\"blue\")"
   ]
  },
  {
   "cell_type": "code",
   "execution_count": 1054,
   "metadata": {
    "collapsed": false
   },
   "outputs": [
    {
     "data": {
      "text/plain": [
       "[1,\n",
       " 2,\n",
       " 3,\n",
       " 4,\n",
       " 5,\n",
       " 6,\n",
       " 7,\n",
       " 8,\n",
       " 9,\n",
       " 10,\n",
       " 11,\n",
       " 12,\n",
       " 13,\n",
       " 14,\n",
       " 15,\n",
       " 16,\n",
       " 17,\n",
       " 18,\n",
       " 19,\n",
       " 20,\n",
       " 21,\n",
       " 22,\n",
       " 23,\n",
       " 24]"
      ]
     },
     "execution_count": 1054,
     "metadata": {},
     "output_type": "execute_result"
    }
   ],
   "source": [
    "range(1,25)"
   ]
  },
  {
   "cell_type": "code",
   "execution_count": 985,
   "metadata": {
    "collapsed": false
   },
   "outputs": [],
   "source": [
    "def mrse(preds,labels):\n",
    "    n = len(preds)\n",
    "    return sum((preds/labels - 1)**2)/float(n)*100"
   ]
  }
 ],
 "metadata": {
  "kernelspec": {
   "display_name": "Python 2",
   "language": "python",
   "name": "python2"
  },
  "language_info": {
   "codemirror_mode": {
    "name": "ipython",
    "version": 2
   },
   "file_extension": ".py",
   "mimetype": "text/x-python",
   "name": "python",
   "nbconvert_exporter": "python",
   "pygments_lexer": "ipython2",
   "version": "2.7.10"
  }
 },
 "nbformat": 4,
 "nbformat_minor": 0
}
