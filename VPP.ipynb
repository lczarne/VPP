{
 "cells": [
  {
   "cell_type": "code",
   "execution_count": 4,
   "metadata": {
    "collapsed": true
   },
   "outputs": [],
   "source": [
    "import numpy as np\n",
    "import pandas as pd"
   ]
  },
  {
   "cell_type": "code",
   "execution_count": 5,
   "metadata": {
    "collapsed": true
   },
   "outputs": [],
   "source": [
    "df = pd.read_csv(\"data.csv\",header=None)"
   ]
  },
  {
   "cell_type": "code",
   "execution_count": 8,
   "metadata": {
    "collapsed": false
   },
   "outputs": [
    {
     "data": {
      "text/html": [
       "<div>\n",
       "<table border=\"1\" class=\"dataframe\">\n",
       "  <thead>\n",
       "    <tr style=\"text-align: right;\">\n",
       "      <th></th>\n",
       "      <th>0</th>\n",
       "      <th>1</th>\n",
       "      <th>2</th>\n",
       "      <th>3</th>\n",
       "      <th>4</th>\n",
       "      <th>5</th>\n",
       "      <th>6</th>\n",
       "      <th>7</th>\n",
       "      <th>8</th>\n",
       "      <th>9</th>\n",
       "      <th>...</th>\n",
       "      <th>159</th>\n",
       "      <th>160</th>\n",
       "      <th>161</th>\n",
       "      <th>162</th>\n",
       "      <th>163</th>\n",
       "      <th>164</th>\n",
       "      <th>165</th>\n",
       "      <th>166</th>\n",
       "      <th>167</th>\n",
       "      <th>168</th>\n",
       "    </tr>\n",
       "  </thead>\n",
       "  <tbody>\n",
       "    <tr>\n",
       "      <th>0</th>\n",
       "      <td>341163402640457_880901755333283</td>\n",
       "      <td>0</td>\n",
       "      <td>48059</td>\n",
       "      <td>61152</td>\n",
       "      <td>70036</td>\n",
       "      <td>77636</td>\n",
       "      <td>84999</td>\n",
       "      <td>91436</td>\n",
       "      <td>96926</td>\n",
       "      <td>101260</td>\n",
       "      <td>...</td>\n",
       "      <td>146636</td>\n",
       "      <td>146673</td>\n",
       "      <td>146698</td>\n",
       "      <td>146731</td>\n",
       "      <td>146745</td>\n",
       "      <td>146779</td>\n",
       "      <td>146801</td>\n",
       "      <td>146834</td>\n",
       "      <td>146862</td>\n",
       "      <td>146880</td>\n",
       "    </tr>\n",
       "    <tr>\n",
       "      <th>1</th>\n",
       "      <td>341163402640457_880956415327817</td>\n",
       "      <td>41457</td>\n",
       "      <td>82351</td>\n",
       "      <td>121691</td>\n",
       "      <td>162281</td>\n",
       "      <td>202702</td>\n",
       "      <td>241761</td>\n",
       "      <td>278878</td>\n",
       "      <td>314355</td>\n",
       "      <td>347958</td>\n",
       "      <td>...</td>\n",
       "      <td>1947135</td>\n",
       "      <td>1948609</td>\n",
       "      <td>1950140</td>\n",
       "      <td>1951974</td>\n",
       "      <td>1954527</td>\n",
       "      <td>1957281</td>\n",
       "      <td>1961155</td>\n",
       "      <td>1965494</td>\n",
       "      <td>1969985</td>\n",
       "      <td>1974771</td>\n",
       "    </tr>\n",
       "    <tr>\n",
       "      <th>2</th>\n",
       "      <td>341163402640457_880993045324154</td>\n",
       "      <td>54229</td>\n",
       "      <td>94312</td>\n",
       "      <td>125887</td>\n",
       "      <td>150893</td>\n",
       "      <td>171727</td>\n",
       "      <td>189382</td>\n",
       "      <td>205866</td>\n",
       "      <td>220667</td>\n",
       "      <td>234427</td>\n",
       "      <td>...</td>\n",
       "      <td>627780</td>\n",
       "      <td>631509</td>\n",
       "      <td>635930</td>\n",
       "      <td>640642</td>\n",
       "      <td>644468</td>\n",
       "      <td>648113</td>\n",
       "      <td>650700</td>\n",
       "      <td>654185</td>\n",
       "      <td>658586</td>\n",
       "      <td>663352</td>\n",
       "    </tr>\n",
       "    <tr>\n",
       "      <th>3</th>\n",
       "      <td>341163402640457_881021215321337</td>\n",
       "      <td>61661</td>\n",
       "      <td>113998</td>\n",
       "      <td>156881</td>\n",
       "      <td>194734</td>\n",
       "      <td>225624</td>\n",
       "      <td>255281</td>\n",
       "      <td>282687</td>\n",
       "      <td>307369</td>\n",
       "      <td>329960</td>\n",
       "      <td>...</td>\n",
       "      <td>1223954</td>\n",
       "      <td>1226818</td>\n",
       "      <td>1229271</td>\n",
       "      <td>1232155</td>\n",
       "      <td>1235054</td>\n",
       "      <td>1238125</td>\n",
       "      <td>1241653</td>\n",
       "      <td>1245985</td>\n",
       "      <td>1250054</td>\n",
       "      <td>1254839</td>\n",
       "    </tr>\n",
       "    <tr>\n",
       "      <th>4</th>\n",
       "      <td>341163402640457_881059645317494</td>\n",
       "      <td>22581</td>\n",
       "      <td>34326</td>\n",
       "      <td>42179</td>\n",
       "      <td>48756</td>\n",
       "      <td>54004</td>\n",
       "      <td>58748</td>\n",
       "      <td>62944</td>\n",
       "      <td>66424</td>\n",
       "      <td>69449</td>\n",
       "      <td>...</td>\n",
       "      <td>114291</td>\n",
       "      <td>114322</td>\n",
       "      <td>114342</td>\n",
       "      <td>114359</td>\n",
       "      <td>114409</td>\n",
       "      <td>114444</td>\n",
       "      <td>114494</td>\n",
       "      <td>114518</td>\n",
       "      <td>114534</td>\n",
       "      <td>114546</td>\n",
       "    </tr>\n",
       "  </tbody>\n",
       "</table>\n",
       "<p>5 rows × 169 columns</p>\n",
       "</div>"
      ],
      "text/plain": [
       "                               0      1       2       3       4       5    \\\n",
       "0  341163402640457_880901755333283      0   48059   61152   70036   77636   \n",
       "1  341163402640457_880956415327817  41457   82351  121691  162281  202702   \n",
       "2  341163402640457_880993045324154  54229   94312  125887  150893  171727   \n",
       "3  341163402640457_881021215321337  61661  113998  156881  194734  225624   \n",
       "4  341163402640457_881059645317494  22581   34326   42179   48756   54004   \n",
       "\n",
       "      6       7       8       9     ...         159      160      161  \\\n",
       "0   84999   91436   96926  101260   ...      146636   146673   146698   \n",
       "1  241761  278878  314355  347958   ...     1947135  1948609  1950140   \n",
       "2  189382  205866  220667  234427   ...      627780   631509   635930   \n",
       "3  255281  282687  307369  329960   ...     1223954  1226818  1229271   \n",
       "4   58748   62944   66424   69449   ...      114291   114322   114342   \n",
       "\n",
       "       162      163      164      165      166      167      168  \n",
       "0   146731   146745   146779   146801   146834   146862   146880  \n",
       "1  1951974  1954527  1957281  1961155  1965494  1969985  1974771  \n",
       "2   640642   644468   648113   650700   654185   658586   663352  \n",
       "3  1232155  1235054  1238125  1241653  1245985  1250054  1254839  \n",
       "4   114359   114409   114444   114494   114518   114534   114546  \n",
       "\n",
       "[5 rows x 169 columns]"
      ]
     },
     "execution_count": 8,
     "metadata": {},
     "output_type": "execute_result"
    }
   ],
   "source": [
    "df.head()"
   ]
  },
  {
   "cell_type": "code",
   "execution_count": 14,
   "metadata": {
    "collapsed": false
   },
   "outputs": [
    {
     "data": {
      "text/plain": [
       "(916, 169)"
      ]
     },
     "execution_count": 14,
     "metadata": {},
     "output_type": "execute_result"
    }
   ],
   "source": [
    "df.shape"
   ]
  },
  {
   "cell_type": "code",
   "execution_count": 18,
   "metadata": {
    "collapsed": false
   },
   "outputs": [],
   "source": [
    "names = []\n",
    "names.append(\"id\")\n",
    "for i in range(1,df.shape[1]):\n",
    "    names.append(\"v\"+str(i))"
   ]
  },
  {
   "cell_type": "code",
   "execution_count": 19,
   "metadata": {
    "collapsed": true
   },
   "outputs": [],
   "source": [
    "df.columns = names"
   ]
  },
  {
   "cell_type": "code",
   "execution_count": 20,
   "metadata": {
    "collapsed": false
   },
   "outputs": [
    {
     "data": {
      "text/html": [
       "<div>\n",
       "<table border=\"1\" class=\"dataframe\">\n",
       "  <thead>\n",
       "    <tr style=\"text-align: right;\">\n",
       "      <th></th>\n",
       "      <th>id</th>\n",
       "      <th>v1</th>\n",
       "      <th>v2</th>\n",
       "      <th>v3</th>\n",
       "      <th>v4</th>\n",
       "      <th>v5</th>\n",
       "      <th>v6</th>\n",
       "      <th>v7</th>\n",
       "      <th>v8</th>\n",
       "      <th>v9</th>\n",
       "      <th>...</th>\n",
       "      <th>v159</th>\n",
       "      <th>v160</th>\n",
       "      <th>v161</th>\n",
       "      <th>v162</th>\n",
       "      <th>v163</th>\n",
       "      <th>v164</th>\n",
       "      <th>v165</th>\n",
       "      <th>v166</th>\n",
       "      <th>v167</th>\n",
       "      <th>v168</th>\n",
       "    </tr>\n",
       "  </thead>\n",
       "  <tbody>\n",
       "    <tr>\n",
       "      <th>0</th>\n",
       "      <td>341163402640457_880901755333283</td>\n",
       "      <td>0</td>\n",
       "      <td>48059</td>\n",
       "      <td>61152</td>\n",
       "      <td>70036</td>\n",
       "      <td>77636</td>\n",
       "      <td>84999</td>\n",
       "      <td>91436</td>\n",
       "      <td>96926</td>\n",
       "      <td>101260</td>\n",
       "      <td>...</td>\n",
       "      <td>146636</td>\n",
       "      <td>146673</td>\n",
       "      <td>146698</td>\n",
       "      <td>146731</td>\n",
       "      <td>146745</td>\n",
       "      <td>146779</td>\n",
       "      <td>146801</td>\n",
       "      <td>146834</td>\n",
       "      <td>146862</td>\n",
       "      <td>146880</td>\n",
       "    </tr>\n",
       "  </tbody>\n",
       "</table>\n",
       "<p>1 rows × 169 columns</p>\n",
       "</div>"
      ],
      "text/plain": [
       "                                id  v1     v2     v3     v4     v5     v6  \\\n",
       "0  341163402640457_880901755333283   0  48059  61152  70036  77636  84999   \n",
       "\n",
       "      v7     v8      v9   ...      v159    v160    v161    v162    v163  \\\n",
       "0  91436  96926  101260   ...    146636  146673  146698  146731  146745   \n",
       "\n",
       "     v164    v165    v166    v167    v168  \n",
       "0  146779  146801  146834  146862  146880  \n",
       "\n",
       "[1 rows x 169 columns]"
      ]
     },
     "execution_count": 20,
     "metadata": {},
     "output_type": "execute_result"
    }
   ],
   "source": [
    "df.head(1)"
   ]
  },
  {
   "cell_type": "code",
   "execution_count": 21,
   "metadata": {
    "collapsed": false
   },
   "outputs": [
    {
     "name": "stdout",
     "output_type": "stream",
     "text": [
      "Populating the interactive namespace from numpy and matplotlib\n"
     ]
    }
   ],
   "source": [
    "%pylab inline"
   ]
  },
  {
   "cell_type": "code",
   "execution_count": 23,
   "metadata": {
    "collapsed": false
   },
   "outputs": [],
   "source": [
    "views24 = df[\"v24\"]\n",
    "views168 = df[\"v168\"]"
   ]
  },
  {
   "cell_type": "code",
   "execution_count": 25,
   "metadata": {
    "collapsed": false
   },
   "outputs": [
    {
     "data": {
      "text/plain": [
       "(array([  11.,   92.,  293.,  249.,  139.,   61.,   36.,   19.,   11.,    5.]),\n",
       " array([ 10.20872709,  10.90226178,  11.59579648,  12.28933118,\n",
       "         12.98286587,  13.67640057,  14.36993527,  15.06346996,\n",
       "         15.75700466,  16.45053936,  17.14407405]),\n",
       " <a list of 10 Patch objects>)"
      ]
     },
     "execution_count": 25,
     "metadata": {},
     "output_type": "execute_result"
    },
    {
     "data": {
      "image/png": "[encoded data removed]",
      "text/plain": [
       "<matplotlib.figure.Figure at 0x106ac9a50>"
      ]
     },
     "metadata": {},
     "output_type": "display_data"
    },
    {
     "data": {
      "image/png": "[encoded data removed]",
      "text/plain": [
       "<matplotlib.figure.Figure at 0x106ac9e90>"
      ]
     },
     "metadata": {},
     "output_type": "display_data"
    },
    {
     "data": {
      "image/png": "[encoded data removed]",
      "text/plain": [
       "<matplotlib.figure.Figure at 0x106bb70d0>"
      ]
     },
     "metadata": {},
     "output_type": "display_data"
    }
   ],
   "source": [
    "figure()\n",
    "hist(views168)\n",
    "figure()\n",
    "hist(views168,log=True)\n",
    "figure()\n",
    "hist(np.log(views168))"
   ]
  },
  {
   "cell_type": "code",
   "execution_count": null,
   "metadata": {
    "collapsed": true
   },
   "outputs": [],
   "source": []
  }
 ],
 "metadata": {
  "kernelspec": {
   "display_name": "Python 2",
   "language": "python",
   "name": "python2"
  },
  "language_info": {
   "codemirror_mode": {
    "name": "ipython",
    "version": 2
   },
   "file_extension": ".py",
   "mimetype": "text/x-python",
   "name": "python",
   "nbconvert_exporter": "python",
   "pygments_lexer": "ipython2",
   "version": "2.7.10"
  }
 },
 "nbformat": 4,
 "nbformat_minor": 0
}
